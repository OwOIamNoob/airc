{
 "cells": [
  {
   "cell_type": "code",
   "execution_count": null,
   "id": "b50a5de4-cf37-420d-ac08-8802daf65d61",
   "metadata": {},
   "outputs": [],
   "source": []
  }
 ],
 "metadata": {
  "kernelspec": {
   "display_name": "",
   "name": ""
  },
  "language_info": {
   "name": ""
  }
 },
 "nbformat": 4,
 "nbformat_minor": 5
}
